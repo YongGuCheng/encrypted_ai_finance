{
 "cells": [
  {
   "cell_type": "markdown",
   "metadata": {},
   "source": [
    "# Secure Multi-Party Computation (SMPC)\n",
    "\n",
    "[SMPC](https://en.wikipedia.org/wiki/Secure_multi-party_computation) is the backbone of encrypted, federated deep-learning. SMPC is exactly the way it sounds; it makes use of multiple workers - remote parties in a network - as well as a trusted third party worker that provides the encryption.\n",
    "\n",
    "SMPC protects the privacy of data held by each partyin the network from all the other workers, while maintaing the ability to securely evaluate a global function F across the network.\n",
    "\n",
    "SMPC works without keys like the ones used for SSH that you may be familiar with. Encrytion keys are not necessay since values are split into *shares* which are distributed amongst the workers. Therefore, in order to decrypt a value all of the workers must agree to put it back together.\n",
    "\n",
    "Here I will dive into the basics of SMPC, but for a more thorough tutorial, please visit [Morten Dahl's fantastic tutorial on SMPC](https://mortendahl.github.io/2017/04/17/private-deep-learning-with-mpc/)\n",
    "\n",
    "## Goals of SMPC:\n",
    "1. **Correctness**:\n",
    "2. **Input Privacy**:\n",
    "\n",
    "**Please Note**, this is a crash course in SMPC, and for more in depth explanations please see the resources I have referenced while developing this notebook:\n",
    "\n",
    "- **Morten Dahl's SMPC **\n",
    "- [Wikipedia: Secure multi-party computation](https://en.wikipedia.org/wiki/Secure_multi-party_computation)\n",
    "- [PySyft SMPC Tutorial](https://github.com/OpenMined/PySyft/blob/dev/examples/tutorials/Part%2009%20-%20Intro%20to%20Encrypted%20Programs.ipynb)\n",
    "- [Boston University Article](https://www.bu.edu/articles/2019/secure-multiparty-computation/)\n",
    "- [Ran Cohen's Lecture](https://www.cs.tau.ac.il/~iftachh/Courses/Seminars/MPC/Intro.pdf)"
   ]
  },
  {
   "cell_type": "markdown",
   "metadata": {},
   "source": [
    "## Encryption\n",
    "\n",
    "Encryption is done on the basis of a large number, *Q*. Generally speaking we want *Q* to be a really large prime number. Why? We will get to that in a second. For now, we will pretend that Q is a small numer `Q = 10` for the purpose of this example. We will also be splitting each value into three shares, as if there were three workers/members in our network."
   ]
  },
  {
   "cell_type": "markdown",
   "metadata": {},
   "source": [
    "### Additive Secret Sharing\n",
    "Additive secret sharing is a subfield of cryptography that allows us to not have to rely on a trusted third party aggregator.\n",
    "We want to aggregate numbers while numbers are encrypted so that no individual entity will see what the encrypted number actually is.\n",
    "Additive secret sharing allows us to sum encrypted numbers together without revealing what the inputs are.\n",
    "This technique is actually computationally efficient, which is nice.\n",
    "\n",
    "One thing to note is that without an extra step, we actually leak some information. For example, if `share_a=2` and we know we only have positive integers, then `decrypted_x > 2`. To fix this potential information leakage, we use very large number Q. This now gives us an infinite number of possibilites for `share_a` and `share_b`, that could map to the correct output value."
   ]
  },
  {
   "cell_type": "markdown",
   "metadata": {},
   "source": [
    "### Basics of Encrypted, SMPC, Arithmetic\n",
    "Example using two workers communicating together, so that we can see how encryption works under the hood.\n",
    "\n",
    "We want to encode the number `5`, and the number `1` and carry out arithmetic using the encrypted numbers. To do this we use a `field` variable (herein represented by `Q`)."
   ]
  },
  {
   "cell_type": "code",
   "execution_count": 56,
   "metadata": {},
   "outputs": [],
   "source": [
    "Q=10\n",
    "x=5\n",
    "\n",
    "share_a_x = 8\n",
    "share_b_x = Q - share_a_x + x"
   ]
  },
  {
   "cell_type": "code",
   "execution_count": 57,
   "metadata": {},
   "outputs": [
    {
     "data": {
      "text/plain": [
       "5"
      ]
     },
     "execution_count": 57,
     "metadata": {},
     "output_type": "execute_result"
    }
   ],
   "source": [
    "(share_a_x + share_b_x) % Q #the modulus is dividing and giving remainder."
   ]
  },
  {
   "cell_type": "markdown",
   "metadata": {},
   "source": [
    "Note, there is an infinite number of ways to encode the number 5, since there are infinite numbes `%10` that returns 5!\n",
    "\n",
    "This is also the basis of encrypted arithmetic. Let's say we have two numbers 5,1 that encrypt into 15 and 11 using the example above.\n",
    "\n",
    "If we add them together and take the modulus, the decryption logic still holds."
   ]
  },
  {
   "cell_type": "code",
   "execution_count": 52,
   "metadata": {},
   "outputs": [
    {
     "name": "stdout",
     "output_type": "stream",
     "text": [
      "26 6\n"
     ]
    }
   ],
   "source": [
    "print(15 + 11, (15+11)%Q)"
   ]
  },
  {
   "cell_type": "markdown",
   "metadata": {},
   "source": [
    "When we add two numbers that are within a field Q, then the remainder also adds up in the process, but the field (Q) piece is equivalent to 0, because it modulus = 0. Any number >=Q, moduluses to 0, which is again why we want a large Q! *We cannot represent numbers larger than Q in SMPC.*\n",
    "\n",
    "**Subtraction**\n",
    "The same logic works for subtraction as well. "
   ]
  },
  {
   "cell_type": "code",
   "execution_count": 53,
   "metadata": {},
   "outputs": [],
   "source": [
    "y=1\n",
    "share_a_y = 9\n",
    "share_b_y = Q - share_a_y + y"
   ]
  },
  {
   "cell_type": "code",
   "execution_count": 54,
   "metadata": {},
   "outputs": [
    {
     "data": {
      "text/plain": [
       "1"
      ]
     },
     "execution_count": 54,
     "metadata": {},
     "output_type": "execute_result"
    }
   ],
   "source": [
    "(share_a_y + share_b_y) % Q #the modulus is dividing and giving remainder."
   ]
  },
  {
   "cell_type": "code",
   "execution_count": 58,
   "metadata": {},
   "outputs": [
    {
     "data": {
      "text/plain": [
       "4"
      ]
     },
     "execution_count": 58,
     "metadata": {},
     "output_type": "execute_result"
    }
   ],
   "source": [
    "(share_a_x + share_b_x) % Q - (share_a_y + share_b_y) % Q  #subtract decrypted numbers"
   ]
  },
  {
   "cell_type": "code",
   "execution_count": 59,
   "metadata": {},
   "outputs": [
    {
     "data": {
      "text/plain": [
       "4"
      ]
     },
     "execution_count": 59,
     "metadata": {},
     "output_type": "execute_result"
    }
   ],
   "source": [
    "((share_a_x + share_b_x) - (share_a_y + share_b_y)) % Q   #subtract encrypted numbers and decrypt"
   ]
  },
  {
   "cell_type": "code",
   "execution_count": 60,
   "metadata": {},
   "outputs": [
    {
     "data": {
      "text/plain": [
       "4"
      ]
     },
     "execution_count": 60,
     "metadata": {},
     "output_type": "execute_result"
    }
   ],
   "source": [
    "((share_a_x - share_a_y) + (share_b_x-share_b_y)) % Q \n",
    "#subtract encrypted numbers on each remote worker first before decrypting\n",
    "#we also dont have to decrypt it, each remote worker can keep the arithmetic output in their own share."
   ]
  },
  {
   "cell_type": "markdown",
   "metadata": {},
   "source": [
    "All of these operations are equivalent! That means we can actually perform encrypted, federated arithmetic using secure multi-party computation!\n",
    "These same properties - the fact that all operations are done within the field Q and Q allows us to encrypt values - apply for addition and subtraction.\n",
    "\n",
    "Handle **negative number reperesentation** in `encode()` or `decode()`\n",
    "\n",
    "\n",
    "##### Multiplication\n",
    "Multiplication is quite straightforward if you understand addition, since multiplication simply builds on addition.\n",
    "`2+2=4`, `2*2=4` etc. Note that this technique allows for multiplying encrypted numbers with non-encrypted numbers! This would be computationally beneficial in scenarios where not all numbers need to be encrypted."
   ]
  },
  {
   "cell_type": "markdown",
   "metadata": {},
   "source": [
    "### Additive Secret Sharing\n",
    "\n",
    "Here I build out more intricate encryption, and decryption functionalities."
   ]
  },
  {
   "cell_type": "code",
   "execution_count": 80,
   "metadata": {},
   "outputs": [],
   "source": [
    "import random\n",
    "def encrypt(x, n_shares=3):\n",
    "    '''\n",
    "    Use  SMPC to encrypt a number\n",
    "    \n",
    "    Inputs: x\n",
    "    Outputs: \n",
    "    '''\n",
    "    \n",
    "    #generate first two shares randomly\n",
    "    shares=list()\n",
    "    for i in range(n_shares-1):\n",
    "        shares.append(random.randint(0,Q)) #each workers share is entirely random\n",
    "        #this is also why we want a large Q value because that allows better encryption \n",
    "        #and allows encryption of larger values\n",
    "\n",
    "    final_share = Q - (sum(shares)%Q) + x #sum of shares modulus Q shows us how far the sum is away from Q\n",
    "\n",
    "    shares.append(final_share)\n",
    "    return tuple(shares)"
   ]
  },
  {
   "cell_type": "markdown",
   "metadata": {},
   "source": [
    "I have found the calculation of the final share to be tricky to comprehend. Think about it this way though:\n",
    "\n",
    "If `Q = 10`, and all the randomly assigned shares till now add up to `6`, then `sum(shares)%Q = 6`. Then `Q - (sum(shares)%Q) = 4` which means that after considering all but the last share we are still 4 away from the value Q. Therefore we want to add `4` to be part of the final share since all the other numbers will be cancelled out in the decryption step where we modulus the sum of shares by `10` and all that is left is the value we wanted to encrypt originally, `x`. If this is still tricky, work through some of the examples of encrypted arithmetic above. "
   ]
  },
  {
   "cell_type": "code",
   "execution_count": 77,
   "metadata": {},
   "outputs": [],
   "source": [
    "def decrypt(shares):\n",
    "    '''Additive Secret Sharing Decryption'''\n",
    "    return sum(shares) % Q"
   ]
  },
  {
   "cell_type": "code",
   "execution_count": 82,
   "metadata": {},
   "outputs": [
    {
     "data": {
      "text/plain": [
       "(1, 3, 11)"
      ]
     },
     "execution_count": 82,
     "metadata": {},
     "output_type": "execute_result"
    }
   ],
   "source": [
    "Q = 10\n",
    "x=5\n",
    "_x = encrypt(x)\n",
    "_x"
   ]
  },
  {
   "cell_type": "code",
   "execution_count": 84,
   "metadata": {},
   "outputs": [
    {
     "data": {
      "text/plain": [
       "(414188986592025917459316057488415215,\n",
       " 215916764030367714056052269452366058,\n",
       " 152266379670538195804934063272940569)"
      ]
     },
     "execution_count": 84,
     "metadata": {},
     "output_type": "execute_result"
    }
   ],
   "source": [
    "Q=782372130292931827320302390213721837\n",
    "_x = encrypt(x)\n",
    "_x\n",
    "#nice!"
   ]
  },
  {
   "cell_type": "markdown",
   "metadata": {},
   "source": [
    "Note that we can only represent numbers as large as Q... so if we try to encrypt and decrypt 11, while `Q=10` we get the equivalent of an overflow error."
   ]
  },
  {
   "cell_type": "code",
   "execution_count": 87,
   "metadata": {},
   "outputs": [
    {
     "name": "stdout",
     "output_type": "stream",
     "text": [
      "(7, 2, 12) 1\n"
     ]
    }
   ],
   "source": [
    "Q=10\n",
    "print(encrypt(11), decrypt(encrypt(11)))#why we want really large number for Q"
   ]
  },
  {
   "cell_type": "code",
   "execution_count": 35,
   "metadata": {},
   "outputs": [],
   "source": [
    "def add(a, b):\n",
    "    c = list()\n",
    "    \n",
    "    for i in range(len(a)):\n",
    "        c.append((a[i]+b[i])%Q)\n",
    "        \n",
    "    return tuple(c)"
   ]
  },
  {
   "cell_type": "code",
   "execution_count": null,
   "metadata": {},
   "outputs": [],
   "source": [
    "def sub(a, b):\n",
    "    c = list()\n",
    "    \n",
    "    for i in range(len(a)):\n",
    "        c.append((a[i]-b[i])%Q)\n",
    "        \n",
    "    return tuple(c)"
   ]
  },
  {
   "cell_type": "code",
   "execution_count": 90,
   "metadata": {},
   "outputs": [],
   "source": [
    "def mul(a, b):\n",
    "    c = list()\n",
    "    \n",
    "    for i in range(len(a)):\n",
    "        c.append((a[i]*b)%Q)\n",
    "        \n",
    "    return tuple(c)"
   ]
  },
  {
   "cell_type": "code",
   "execution_count": 91,
   "metadata": {},
   "outputs": [
    {
     "data": {
      "text/plain": [
       "8"
      ]
     },
     "execution_count": 91,
     "metadata": {},
     "output_type": "execute_result"
    }
   ],
   "source": [
    "decrypt(mul(encrypt(2),4))"
   ]
  },
  {
   "cell_type": "code",
   "execution_count": 36,
   "metadata": {},
   "outputs": [
    {
     "data": {
      "text/plain": [
       "7"
      ]
     },
     "execution_count": 36,
     "metadata": {},
     "output_type": "execute_result"
    }
   ],
   "source": [
    "decrypt(add(encrypt(3), encrypt(4)))"
   ]
  },
  {
   "cell_type": "markdown",
   "metadata": {},
   "source": [
    "### Add Support for Decimals - Fixed Precision Encoding\n",
    "\n",
    "PySyft actually has a FixedPrecisionTensor implementation that handles this for us when we call `tensor.fix_precision()`"
   ]
  },
  {
   "cell_type": "code",
   "execution_count": 100,
   "metadata": {},
   "outputs": [],
   "source": [
    "BASE = 10 #numbers of base 10\n",
    "PRECISION = 4 #store 4 decimals\n",
    "\n",
    "Q = 231323129859892723107\n",
    "\n",
    "def encode(x_dec):\n",
    "    '''Fixed Precision Encoding. Input: float'''\n",
    "    \n",
    "    return int(x_dec * (BASE ** PRECISION))%Q #multiple decimal by 10000 and convert to integer"
   ]
  },
  {
   "cell_type": "code",
   "execution_count": 23,
   "metadata": {},
   "outputs": [
    {
     "data": {
      "text/plain": [
       "9900"
      ]
     },
     "execution_count": 23,
     "metadata": {},
     "output_type": "execute_result"
    }
   ],
   "source": [
    "encode(0.99)"
   ]
  },
  {
   "cell_type": "code",
   "execution_count": 25,
   "metadata": {},
   "outputs": [],
   "source": [
    "def decode(x_fp):\n",
    "    '''Divide By Fixed Precision threshold, this first part of if, else helps us account for negative numbers'''\n",
    "    return (x_fp if x_fp <= Q/2 else x_fp - Q)/ BASE**PRECISION"
   ]
  },
  {
   "cell_type": "markdown",
   "metadata": {},
   "source": [
    "**Note** that `decode()` shows we are splitting our field (Q) into two sections. [0,Q/2] represents positive numbers, (Q/2,inf] represents negative numbers. This is due to our fixed precision encoding rather than SMPC"
   ]
  },
  {
   "cell_type": "code",
   "execution_count": 26,
   "metadata": {},
   "outputs": [
    {
     "data": {
      "text/plain": [
       "0.99"
      ]
     },
     "execution_count": 26,
     "metadata": {},
     "output_type": "execute_result"
    }
   ],
   "source": [
    "decode(9900)"
   ]
  },
  {
   "cell_type": "code",
   "execution_count": 27,
   "metadata": {},
   "outputs": [
    {
     "data": {
      "text/plain": [
       "231323129859892713207"
      ]
     },
     "execution_count": 27,
     "metadata": {},
     "output_type": "execute_result"
    }
   ],
   "source": [
    "encode(-0.99) #wraps around to other side of int."
   ]
  },
  {
   "cell_type": "code",
   "execution_count": 28,
   "metadata": {},
   "outputs": [
    {
     "data": {
      "text/plain": [
       "-0.99"
      ]
     },
     "execution_count": 28,
     "metadata": {},
     "output_type": "execute_result"
    }
   ],
   "source": [
    "decode(231323129859892713207)"
   ]
  },
  {
   "cell_type": "markdown",
   "metadata": {},
   "source": [
    "### Processing Flow:\n",
    "\n",
    "How to process numbers to ensure correct logic in SMPC and encrypted computation\n",
    "\n",
    "1. Encode (fixed precision)\n",
    "2. Encrypt\n",
    "3. Arithmetic\n",
    "4. Decrypt\n",
    "5. Decode"
   ]
  },
  {
   "cell_type": "code",
   "execution_count": 102,
   "metadata": {},
   "outputs": [
    {
     "data": {
      "text/plain": [
       "19900"
      ]
     },
     "execution_count": 102,
     "metadata": {},
     "output_type": "execute_result"
    }
   ],
   "source": [
    "Q=193387283123\n",
    "decrypt(add(encrypt(encode(0.99)),encrypt(encode(1))))"
   ]
  },
  {
   "cell_type": "code",
   "execution_count": 103,
   "metadata": {},
   "outputs": [
    {
     "data": {
      "text/plain": [
       "1.99"
      ]
     },
     "execution_count": 103,
     "metadata": {},
     "output_type": "execute_result"
    }
   ],
   "source": [
    "decode(19900)"
   ]
  }
 ],
 "metadata": {
  "kernelspec": {
   "display_name": "Python 3",
   "language": "python",
   "name": "python3"
  },
  "language_info": {
   "codemirror_mode": {
    "name": "ipython",
    "version": 3
   },
   "file_extension": ".py",
   "mimetype": "text/x-python",
   "name": "python",
   "nbconvert_exporter": "python",
   "pygments_lexer": "ipython3",
   "version": "3.6.8"
  }
 },
 "nbformat": 4,
 "nbformat_minor": 2
}
